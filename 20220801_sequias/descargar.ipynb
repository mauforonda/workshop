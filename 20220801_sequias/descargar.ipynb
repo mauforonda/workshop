{
 "cells": [
  {
   "cell_type": "markdown",
   "id": "9645c464-2aa1-450a-ad3b-4f49e83e2026",
   "metadata": {},
   "source": [
    "# Sequía en Bolivia\n",
    "\n",
    "El sistema Dewetra de la Fundación CIMA produce reportes del riesgo de desastres naturales dirigidos a [analistas del Ministerio de Defensa Civil](http://defensacivil.gob.bo/web/pagina/que-es-snatd.html). Si bien la mayoría de [las funciones de este sistema](http://bolivia.mydewetra.cimafoundation.org/wiki/intro.html) están reservadas para usuarios institucionales, algunos reportes son públicos. En particular, reportes del nivel de sequía pueden ser consultados mediante [un portal de senamhi](http://monitorsequias.senamhi.gob.bo). Estos reportes tienen 3 tipos de información:\n",
    "\n",
    "- Mapas que clasifican el territorio nacional en 4 niveles de sequía\n",
    "- Resúmenes del nivel de sequía por regiones\n",
    "- Series de tiempo del porcentaje de territorio en cada uno de los 4 niveles a nivel nacional y por región\n",
    "\n",
    "Este cuaderno es una demostración de cómo extraer esta información."
   ]
  },
  {
   "cell_type": "code",
   "execution_count": 146,
   "id": "df15f082-a1e7-496b-8942-b644f5413cda",
   "metadata": {
    "execution": {
     "iopub.execute_input": "2022-08-02T02:02:50.930130Z",
     "iopub.status.busy": "2022-08-02T02:02:50.929620Z",
     "iopub.status.idle": "2022-08-02T02:02:50.936785Z",
     "shell.execute_reply": "2022-08-02T02:02:50.936110Z",
     "shell.execute_reply.started": "2022-08-02T02:02:50.930096Z"
    },
    "tags": []
   },
   "outputs": [],
   "source": [
    "# dependencias\n",
    "\n",
    "import datetime as dt\n",
    "import json\n",
    "import requests\n",
    "import pandas as pd\n",
    "import geopandas as gpd\n",
    "import matplotlib.pyplot as plt\n",
    "import locale\n",
    "from IPython.display import display, Markdown\n",
    "import re\n",
    "plt.style.use('../0_common/estilo.mplstyle')\n",
    "pd.options.display.max_colwidth=500\n",
    "locale.setlocale(locale.LC_TIME, 'es_US.UTF8');"
   ]
  },
  {
   "cell_type": "markdown",
   "id": "0eec3c09-02dc-4a39-9683-a629a3696987",
   "metadata": {},
   "source": [
    "Una lista de boletines que contienen mapas y resúmenes puede ser consultada en [este índice](https://bolivia.mydewetra.cimafoundation.org/portal2_bulletin_prod/bulletininstance/?schema=10&is_published=true&is_open=false). Primero descargo el índice y filtro aquellas entradas que corresponden a boletines que contengan mapas."
   ]
  },
  {
   "cell_type": "code",
   "execution_count": 20,
   "id": "af0c16de-a19c-454d-b87d-7489d8ed7aec",
   "metadata": {
    "execution": {
     "iopub.execute_input": "2022-08-02T00:23:01.359129Z",
     "iopub.status.busy": "2022-08-02T00:23:01.358526Z",
     "iopub.status.idle": "2022-08-02T00:23:01.368597Z",
     "shell.execute_reply": "2022-08-02T00:23:01.367479Z",
     "shell.execute_reply.started": "2022-08-02T00:23:01.359090Z"
    },
    "tags": []
   },
   "outputs": [],
   "source": [
    "INDEX_URL = 'https://bolivia.mydewetra.cimafoundation.org/portal2_bulletin_prod/bulletininstance/?format=json&is_open=false&is_published=true&schema=10'\n",
    "index = requests.get(INDEX_URL)\n",
    "bulletins = [i for i in index.json() if len([c for c in i['components'] if c['tag'] == \"geojson_map\"]) > 0]"
   ]
  },
  {
   "cell_type": "markdown",
   "id": "9ad17946-4e36-46f3-9f44-4a9bff6b8bcc",
   "metadata": {
    "execution": {
     "iopub.execute_input": "2022-08-02T01:26:43.263796Z",
     "iopub.status.busy": "2022-08-02T01:26:43.263451Z",
     "iopub.status.idle": "2022-08-02T01:26:43.271189Z",
     "shell.execute_reply": "2022-08-02T01:26:43.269647Z",
     "shell.execute_reply.started": "2022-08-02T01:26:43.263763Z"
    },
    "tags": []
   },
   "source": [
    "Cada boletín corresponde a un mes:"
   ]
  },
  {
   "cell_type": "code",
   "execution_count": 93,
   "id": "c989b56f-1f99-403a-afe2-b9193b4a7fd2",
   "metadata": {
    "execution": {
     "iopub.execute_input": "2022-08-02T01:27:06.619894Z",
     "iopub.status.busy": "2022-08-02T01:27:06.619374Z",
     "iopub.status.idle": "2022-08-02T01:27:06.626825Z",
     "shell.execute_reply": "2022-08-02T01:27:06.625830Z",
     "shell.execute_reply.started": "2022-08-02T01:27:06.619857Z"
    },
    "tags": []
   },
   "outputs": [
    {
     "data": {
      "text/plain": [
       "['2020-06-01',\n",
       " '2020-07-01',\n",
       " '2020-08-02',\n",
       " '2020-09-01',\n",
       " '2020-10-01',\n",
       " '2020-11-01',\n",
       " '2020-12-01',\n",
       " '2021-01-01',\n",
       " '2021-02-01',\n",
       " '2021-03-01',\n",
       " '2021-04-01',\n",
       " '2021-05-01',\n",
       " '2021-06-01',\n",
       " '2021-07-01',\n",
       " '2021-08-01',\n",
       " '2021-09-01',\n",
       " '2021-10-01',\n",
       " '2021-11-10',\n",
       " '2021-12-01',\n",
       " '2022-02-01',\n",
       " '2022-03-01',\n",
       " '2022-04-01',\n",
       " '2022-05-01',\n",
       " '2022-06-01']"
      ]
     },
     "execution_count": 93,
     "metadata": {},
     "output_type": "execute_result"
    }
   ],
   "source": [
    "sorted([i['date'] for i in bulletins])"
   ]
  },
  {
   "cell_type": "markdown",
   "id": "557083ca-8125-4ff1-951c-366c689f8ad5",
   "metadata": {},
   "source": [
    "Para cada boletín, descargo todos los campos de resumen y el mapa en formato `geojson`, que guardo en el directorio `data/sequia`. Almaceno temporalmente esta información en la lista `all_data` que luego convertiré en un dataframe. "
   ]
  },
  {
   "cell_type": "code",
   "execution_count": 96,
   "id": "1a1cb52a-21f7-4791-9259-cdae15b02752",
   "metadata": {
    "execution": {
     "iopub.execute_input": "2022-08-02T01:28:57.005719Z",
     "iopub.status.busy": "2022-08-02T01:28:57.004726Z",
     "iopub.status.idle": "2022-08-02T01:28:57.012025Z",
     "shell.execute_reply": "2022-08-02T01:28:57.010707Z",
     "shell.execute_reply.started": "2022-08-02T01:28:57.005678Z"
    },
    "tags": []
   },
   "outputs": [],
   "source": [
    "GEOJSON_DIR = 'data/sequia'"
   ]
  },
  {
   "cell_type": "code",
   "execution_count": 97,
   "id": "96410fca-81da-4189-8c30-baf2e5f1f941",
   "metadata": {
    "execution": {
     "iopub.execute_input": "2022-08-02T01:29:00.583373Z",
     "iopub.status.busy": "2022-08-02T01:29:00.583009Z",
     "iopub.status.idle": "2022-08-02T01:29:00.590805Z",
     "shell.execute_reply": "2022-08-02T01:29:00.590034Z",
     "shell.execute_reply.started": "2022-08-02T01:29:00.583339Z"
    },
    "tags": []
   },
   "outputs": [],
   "source": [
    "def consume_bulletin(json_bulletin):\n",
    "    mes = dt.datetime.strptime(json_bulletin['date'], '%Y-%m-%d')\n",
    "    print(mes)\n",
    "    data = {}\n",
    "    fields = ['date', 'dateto', 'timestamp', 'last_modified']\n",
    "    for field in fields:\n",
    "        data[field] = json_bulletin[field]\n",
    "    for component in json_bulletin['components']:\n",
    "        if component['tag'] != 'geojson_map':\n",
    "            tag = component['tag']\n",
    "            text = requests.get(component['instance']).json()['text']\n",
    "            data[tag] = text\n",
    "        else:\n",
    "            filename = '{}/{}.geojson'.format(GEOJSON_DIR, mes.strftime('%Y%m'))\n",
    "            with open(filename, 'w+') as f:\n",
    "                geojson = requests.get(component['instance']).json()\n",
    "                json.dump(geojson, f, ensure_ascii=False)\n",
    "                data['geojson'] = filename\n",
    "    all_data.append(data)"
   ]
  },
  {
   "cell_type": "code",
   "execution_count": 18,
   "id": "87977848-3859-407e-84de-ff91d7b7e684",
   "metadata": {
    "execution": {
     "iopub.execute_input": "2022-08-02T00:21:56.793872Z",
     "iopub.status.busy": "2022-08-02T00:21:56.793555Z",
     "iopub.status.idle": "2022-08-02T00:21:56.800418Z",
     "shell.execute_reply": "2022-08-02T00:21:56.799481Z",
     "shell.execute_reply.started": "2022-08-02T00:21:56.793841Z"
    },
    "tags": []
   },
   "outputs": [],
   "source": [
    "all_data = []"
   ]
  },
  {
   "cell_type": "code",
   "execution_count": 21,
   "id": "4f97bee4-bfe9-4ea6-9a24-f146766f4305",
   "metadata": {
    "execution": {
     "iopub.execute_input": "2022-08-02T00:23:16.797055Z",
     "iopub.status.busy": "2022-08-02T00:23:16.796258Z",
     "iopub.status.idle": "2022-08-02T00:25:05.838306Z",
     "shell.execute_reply": "2022-08-02T00:25:05.837014Z",
     "shell.execute_reply.started": "2022-08-02T00:23:16.796993Z"
    },
    "tags": []
   },
   "outputs": [
    {
     "name": "stdout",
     "output_type": "stream",
     "text": [
      "2021-02-01 00:00:00\n",
      "2021-10-01 00:00:00\n",
      "2021-05-01 00:00:00\n",
      "2021-09-01 00:00:00\n",
      "2020-06-01 00:00:00\n",
      "2020-07-01 00:00:00\n",
      "2020-08-02 00:00:00\n",
      "2021-11-10 00:00:00\n",
      "2021-03-01 00:00:00\n",
      "2022-04-01 00:00:00\n",
      "2020-09-01 00:00:00\n",
      "2020-12-01 00:00:00\n",
      "2020-11-01 00:00:00\n",
      "2021-06-01 00:00:00\n",
      "2021-12-01 00:00:00\n",
      "2022-02-01 00:00:00\n",
      "2021-01-01 00:00:00\n",
      "2020-10-01 00:00:00\n",
      "2021-04-01 00:00:00\n",
      "2022-06-01 00:00:00\n",
      "2021-07-01 00:00:00\n",
      "2021-08-01 00:00:00\n",
      "2022-03-01 00:00:00\n",
      "2022-05-01 00:00:00\n"
     ]
    }
   ],
   "source": [
    "for bulletin in bulletins:\n",
    "    consume_bulletin(bulletin)"
   ]
  },
  {
   "cell_type": "code",
   "execution_count": 22,
   "id": "df203afa-2dd1-4bf7-b24a-10408748d7df",
   "metadata": {
    "execution": {
     "iopub.execute_input": "2022-08-02T00:27:03.587252Z",
     "iopub.status.busy": "2022-08-02T00:27:03.586730Z",
     "iopub.status.idle": "2022-08-02T00:27:03.595255Z",
     "shell.execute_reply": "2022-08-02T00:27:03.594128Z",
     "shell.execute_reply.started": "2022-08-02T00:27:03.587204Z"
    },
    "tags": []
   },
   "outputs": [],
   "source": [
    "df = pd.DataFrame(all_data)"
   ]
  },
  {
   "cell_type": "code",
   "execution_count": 26,
   "id": "66e840a6-ac41-4078-acf7-5b754f53ccc2",
   "metadata": {
    "execution": {
     "iopub.execute_input": "2022-08-02T00:29:14.469082Z",
     "iopub.status.busy": "2022-08-02T00:29:14.468599Z",
     "iopub.status.idle": "2022-08-02T00:29:14.474232Z",
     "shell.execute_reply": "2022-08-02T00:29:14.473460Z",
     "shell.execute_reply.started": "2022-08-02T00:29:14.469052Z"
    },
    "tags": []
   },
   "outputs": [],
   "source": [
    "for col in ['date', 'dateto', 'timestamp', 'last_modified']:\n",
    "    df[col] = pd.to_datetime(df[col])\n",
    "df = df.sort_values('date')"
   ]
  },
  {
   "cell_type": "code",
   "execution_count": 101,
   "id": "1d54b494-b7e9-4bed-a8b9-d559b2d09b80",
   "metadata": {
    "execution": {
     "iopub.execute_input": "2022-08-02T01:33:51.868112Z",
     "iopub.status.busy": "2022-08-02T01:33:51.867839Z",
     "iopub.status.idle": "2022-08-02T01:33:51.895047Z",
     "shell.execute_reply": "2022-08-02T01:33:51.893934Z",
     "shell.execute_reply.started": "2022-08-02T01:33:51.868081Z"
    },
    "tags": []
   },
   "outputs": [
    {
     "data": {
      "text/markdown": [
       "Existen 24 boletines, cada uno con 40 campos, de los cuales 35 son textos de resumen. Un boletín tiene estos campos:"
      ],
      "text/plain": [
       "<IPython.core.display.Markdown object>"
      ]
     },
     "metadata": {},
     "output_type": "display_data"
    },
    {
     "data": {
      "text/html": [
       "<div>\n",
       "<style scoped>\n",
       "    .dataframe tbody tr th:only-of-type {\n",
       "        vertical-align: middle;\n",
       "    }\n",
       "\n",
       "    .dataframe tbody tr th {\n",
       "        vertical-align: top;\n",
       "    }\n",
       "\n",
       "    .dataframe thead th {\n",
       "        text-align: right;\n",
       "    }\n",
       "</style>\n",
       "<table border=\"1\" class=\"dataframe\">\n",
       "  <thead>\n",
       "    <tr style=\"text-align: right;\">\n",
       "      <th></th>\n",
       "      <th>3</th>\n",
       "    </tr>\n",
       "  </thead>\n",
       "  <tbody>\n",
       "    <tr>\n",
       "      <th>date</th>\n",
       "      <td>2021-09-01 00:00:00</td>\n",
       "    </tr>\n",
       "    <tr>\n",
       "      <th>dateto</th>\n",
       "      <td>2021-09-30 00:00:00</td>\n",
       "    </tr>\n",
       "    <tr>\n",
       "      <th>timestamp</th>\n",
       "      <td>2021-10-11 12:20:56.229544+00:00</td>\n",
       "    </tr>\n",
       "    <tr>\n",
       "      <th>last_modified</th>\n",
       "      <td>2021-10-15 22:12:10.687162+00:00</td>\n",
       "    </tr>\n",
       "    <tr>\n",
       "      <th>text_summary_general_SENAMHI</th>\n",
       "      <td>En el mes de septiembre se observ&amp;#243; un &amp;#237;ndice combinado de sequ&amp;#237;a entre moderado y d&amp;#233;bil en gran parte de las macroregiones de Altiplano, Yungas-Chapare, Sabanas-Llanuras y Amazonia; un &amp;#237;ndice combinado de sequ&amp;#237;a desde d&amp;#233;bil a extrema en gran parte de las macroregiones de la Chiquitania y Chaco; de manera puntual un &amp;#237;ndice combinado de sequ&amp;#237;a d&amp;#233;bil en la macroregi&amp;#243;n de los Valles.&amp;#160;&lt;div&gt;En cuanto al d&amp;#233;ficit de agua en el suelo (S...</td>\n",
       "    </tr>\n",
       "    <tr>\n",
       "      <th>text_summary_general_VIDECI</th>\n",
       "      <td>De acuerdo al análisis de vulnerabilidad y riesgo, prevalece la alerta nivel Naranja por sequía en las regiones Altiplano, Amazonia, Chaco, Chiquitania, LLanuras Sabanas y Yungas Chapare con eventos de sequía débil a moderada, septiembre presentó con relación al pasado mes un ligero incremento en índices de sequía en la región altiplano aunque persisten algunos municipios, se evidencio también un aumento en la intensidad de índices de sequía en la Amazonia, se incrementó el territorio suscep...</td>\n",
       "    </tr>\n",
       "    <tr>\n",
       "      <th>text_summary_Amazonia_MMAyA</th>\n",
       "      <td>No se identifican situaciones de sequ&amp;#237;a cr&amp;#237;ticas en la macroregi&amp;#243;n Amazonia para el sector de competencia.</td>\n",
       "    </tr>\n",
       "    <tr>\n",
       "      <th>text_summary_Amazonia_SENAMHI</th>\n",
       "      <td>En el mes de septiembre se observ&amp;#243; un &amp;#237;ndice cambiando de sequ&amp;#237;a entre d&amp;#233;bil a moderado en gran parte de la macrorregi&amp;#243;n y de manera puntual un &amp;#237;ndice combinado de sequ&amp;#237;a severa al Noreste.&amp;#160;&lt;br&gt;&lt;span&gt;En cuanto a d&amp;#233;ficit de agua en el suelo (SWDI) las Cuencas con valores significativos desde seco a extremadamente seco son: Abun&amp;#225;, Mamor&amp;#233; (Cuenca alta y baja), Beni (cuenca baja y media). Todos con niveles muy bajos en r&amp;#237;os principales ...</td>\n",
       "    </tr>\n",
       "    <tr>\n",
       "      <th>text_summary_Chaco_SENAMHI</th>\n",
       "      <td>En el mes de septiembre se observ&amp;#243; un &amp;#237;ndice cambiando de sequ&amp;#237;a entre d&amp;#233;bil en gran parte de la macroregion del Chaco y demanera puntual al Centro, Norte y Este de la macroregion.&amp;#160;&lt;div&gt;En cuanto a d&amp;#233;ficit de agua en el suelo (SWDI) las Cuencas que presentan valores significativos desde seco a extremadamente seco son: Parapet&amp;#237; (cuenca baja), San Miguel y afluentes secundarios. Todos con niveles muy bajos en r&amp;#237;os principales y afluentes secundarios.&amp;#16...</td>\n",
       "    </tr>\n",
       "    <tr>\n",
       "      <th>text_summary_Chaco_MMAyA</th>\n",
       "      <td>Cuencas con presencia de sequ&amp;#237;a: Rio Quimome y R&amp;#237;o San Ramon &amp;#8211; Curupayty.</td>\n",
       "    </tr>\n",
       "    <tr>\n",
       "      <th>text_summary_Chiquitania_SENAMHI</th>\n",
       "      <td>En el mes de septiembre se observ&amp;#243; un &amp;#237;ndice cambiando de sequ&amp;#237;a entre d&amp;#233;bil a moderado y severo en gran parte de la macroregion y de manera puntual un &amp;#237;ndice combinado de sequ&amp;#237;a extrema al Centro y Este.&amp;#160;&lt;div&gt;En cuanto a d&amp;#233;ficit de agua en el suelo (SWDI) las Cuencas que presentan valores significativos desde seco a extremadamente seco son: Tucabaca, San Miguel, C&amp;#225;ceres, Curiche Grande, Blanco, San Mart&amp;#237;n, Paragu&amp;#225;, Itenez Norte, Itenez ...</td>\n",
       "    </tr>\n",
       "    <tr>\n",
       "      <th>text_summary_Chiquitania_MMAyA</th>\n",
       "      <td>Cuencas con presencia de sequ&amp;#237;a: R&amp;#237;o Blanco, R&amp;#237;o Itonomas, R&amp;#237;o Santa Mar&amp;#237;a, R&amp;#237;o Paragua, R&amp;#237;o Curiche Grande, R&amp;#237;o Tucavaca y Qda. Bah&amp;#237;a C&amp;#225;ceres.</td>\n",
       "    </tr>\n",
       "    <tr>\n",
       "      <th>text_summary_Llanuras_Sabanas_SENAMHI</th>\n",
       "      <td>En el mes de septiembre se observ&amp;#243; un &amp;#237;ndice cambiando de sequ&amp;#237;a entre d&amp;#233;bil a moderado en gran parte de la macroregi&amp;#243;n y de manera puntual un &amp;#237;ndice combinado de sequ&amp;#237;a severa al Centro y Noreste.&amp;#160;&lt;div&gt;En cuanto a d&amp;#233;ficit de agua en el suelo (SWDI) las Cuencas que presentan valores significativos desde seco a extremadamente seco son: Mamor&amp;#233; (Cuenca alta y baja), Isiboro, Ichilo, Maniqu&amp;#237;, Machupo, Itenez, Yacuma, Beni (cuenca baja y medi...</td>\n",
       "    </tr>\n",
       "    <tr>\n",
       "      <th>text_summary_Altiplano_SENAMHI</th>\n",
       "      <td>En el mes de septiembre se observ&amp;#243; un &amp;#237;ndice cambiando de sequ&amp;#237;a entre d&amp;#233;bil a moderado al Noroeste, Sudoeste y Centro de la macroregi&amp;#243;n; de manera puntual un &amp;#237;ndice combinado de sequ&amp;#237;a severo en la regi&amp;#243;n Central.&amp;#160;&lt;div&gt;En cuanto a d&amp;#233;ficit de agua en el suelo (SWDI) las Cuencas que presentan valores significativos desde seco a extremadamente seco son: Desaguadero (cuenca baja), Poop&amp;#243;, Salar de Uyuni y Quebradas de toda la regi&amp;#243;n (Ce...</td>\n",
       "    </tr>\n",
       "    <tr>\n",
       "      <th>text_summary_Yungas_Chapare_SENAMHI</th>\n",
       "      <td>En el mes de septiembre se observ&amp;#243; un &amp;#237;ndice cambiando de sequ&amp;#237;a entre d&amp;#233;bil a moderado al Noroeste, Oeste, Norte y Sudeste de la macroregi&amp;#243;n.&amp;#160;&lt;div&gt;En cuanto a d&amp;#233;ficit de agua en el suelo (SWDI) las Cuencas que presentan valores significativos desde seco a extremadamente seco son: Beni (cuenca media), Isiboro (cabecera), Ichilo, Cotacajes y afluentes secundarios. Todos con niveles muy bajos en sus r&amp;#237;os tanto principales como secundarios.&amp;#160;&lt;/div&gt;&lt;di...</td>\n",
       "    </tr>\n",
       "    <tr>\n",
       "      <th>text_summary_general_MDRyT</th>\n",
       "      <td>Para la actividades agropecuarias se observa con mayor preocupación el incremento de la sequía con relación a los meses precedentes desde junio en regiones focalizadas de las macroregiones de la  chiquitanía , chaco, y altiplano a moderada, severa e incluso registrándose  extremas que hubiese afectado la disponibilidad de consumo de agua y alimento para el ganado según reportes de municipios y prensa,   causando enfermedades, baja conversión alimenticia  y muerte de ganado camélido, bobino y...</td>\n",
       "    </tr>\n",
       "    <tr>\n",
       "      <th>text_summary_Altiplano_MDRyT</th>\n",
       "      <td>En el mes de octubre, el altiplano registra reducción de la intensidad de sequía débil favorable para el inicio de la campaña agrícola de verano que están en época de siembras y zonas focalizadas de intensidad de sequía de débil a moderada que afectó el ganado camélido por falta de agua y alimento para consumo de ganado causando deshidratación y mortandad, por lo que la Gobernación de Oruro se declara en emergencia por sequía.</td>\n",
       "    </tr>\n",
       "    <tr>\n",
       "      <th>text_summary_Valles_SENAMHI</th>\n",
       "      <td>En el mes de septiembre se observ&amp;#243; un &amp;#237;ndice cambiando de sequ&amp;#237;a entre d&amp;#233;bil a moderado de manera puntual al Norte, Centro y Sur de la macroregion.&amp;#160;&lt;div&gt;En cuanto a d&amp;#233;ficit de agua en el suelo (SWDI) las Cuencas que presentan valores moderadamente secos de d&amp;#233;ficit de agua son las cuencas: Mizque, Capinota, Grande (Cabecera), Alto Pilcomayo, Pilcomayo (cuenca media), Tum&amp;#250;sla, San Juan del Oro, Guadalquivir, Bermejo y afluentes secundarios. Todos con niv...</td>\n",
       "    </tr>\n",
       "    <tr>\n",
       "      <th>text_summary_general_MMAyA</th>\n",
       "      <td>Se identificaron 11 cuencas con presencia de sequía moderada a severa y 3 embalses con niveles de volumen bajos respecto a la normal.</td>\n",
       "    </tr>\n",
       "    <tr>\n",
       "      <th>text_summary_Llanuras_Sabanas_MMAyA</th>\n",
       "      <td>Cuenca con presencia de sequ&amp;#237;a: R&amp;#237;o Yata.</td>\n",
       "    </tr>\n",
       "    <tr>\n",
       "      <th>text_summary_Altiplano_VIDECI</th>\n",
       "      <td>Para septiembre la macroregión Altiplano presenta un desenso en la intensidad distribuyéndose el índice hacia el norte del departamento de Oruro. Se observo que puede existir afectacion en los Municipio de Santiago de Huata, Calacoto, Puerto Mayor de Guaqui, Pucarani y Tiahuanacu en el Departamento de La Paz.  Caracollo, Totora, Pampa Aullagas, Andamarca, Santiago de Huari, El Choro, Challapata, Toledo, Santuario de Quillacas y Pazña en Oruro y finalmente Tomave, Colcha \"K\", Uyuni y San Pedr...</td>\n",
       "    </tr>\n",
       "    <tr>\n",
       "      <th>text_summary_Yungas_Chapare_MMAyA</th>\n",
       "      <td>En la cuenca del R&amp;#237;o Cotacajes, la subcuenca Escalerani presenta en su embalse un volumen de almacenamiento levemente deficitario (10% por debajo de la media) comparado con el registro hist&amp;#243;rico.</td>\n",
       "    </tr>\n",
       "    <tr>\n",
       "      <th>text_summary_Valles_MMAyA</th>\n",
       "      <td>Dentro la subcuenca del R&amp;#237;o Sulty el embalse de La Angostura (cuenca baja) presenta un volumen de almacenamiento extremadamente deficitario (8% de su capacidad); en cuenca alta el embalse Totora Qhocha (cuenca alta) presentan un almacenamiento levemente bajo (aproximadamente 10% por debajo del registro hist&amp;#243;rico normal).</td>\n",
       "    </tr>\n",
       "    <tr>\n",
       "      <th>text_summary_Altiplano_MMAyA</th>\n",
       "      <td>Cuenca con presencia de sequ&amp;#237;a: Lago Poop&amp;#243;.</td>\n",
       "    </tr>\n",
       "    <tr>\n",
       "      <th>text_summary_Amazonia_MDRyT</th>\n",
       "      <td>Para el mes de julio identifica incremento de valores de sequía débil y zonas focalizadas sequia moderada en el sur de los municipios de Ixiamas, San Buenventura, San Borja y Rurrenabaque así también del índice de la salud de la vegetación VHI con valores de normal, mala y muy mala, por lo que hay riesgo en las actividades agropecuarias de no existir mejoras en el mes de octubre.</td>\n",
       "    </tr>\n",
       "    <tr>\n",
       "      <th>text_summary_Chaco_MDRyT</th>\n",
       "      <td>Las condiciones de sequía débil, severa y extrema continuaron respecto al mes de agosto en algunas zonas focalizadas, así también el índice de salud de la vegetación (VHI) identifica valores de condiciones muy malas y pésimas en mayor proporción por lo que afectaron la actividad ganadera causando muertes por falta de agua y consumo para ganado según reportes del municipio de Macharetí.</td>\n",
       "    </tr>\n",
       "    <tr>\n",
       "      <th>text_footer_contact</th>\n",
       "      <td>monitorsequias@senamhi.gob.bo</td>\n",
       "    </tr>\n",
       "    <tr>\n",
       "      <th>text_summary_Yungas_Chapare_VIDECI</th>\n",
       "      <td>Se observó un índice combinado de sequias con baja intensidad en los municipios de la macroregión de Yungas y Chapare. El Departamento de Cochabamba se encuentran propensos los municipios de Cocapata, Puerto Villarroel, Chimoré, Entre Ríos, Villa Tunari y Shinahota; Charazani, Alto Beni, Caranavi, Apolo, Pelechuco, Cajuata, Guanay, Mapiri, Tacacoma, Coripata, La Asunta, Irupana, Palos Blancos y Chulumani en el Departamento de La Paz.</td>\n",
       "    </tr>\n",
       "    <tr>\n",
       "      <th>text_footer_author</th>\n",
       "      <td>SENAMHI-MMAyA-MDRyT-VIDECI</td>\n",
       "    </tr>\n",
       "    <tr>\n",
       "      <th>text_summary_Llanuras_Sabanas_VIDECI</th>\n",
       "      <td>No se identifican situaciones de sequía críticas en la macroregión Llanuras Sábanas para el sector de competencia</td>\n",
       "    </tr>\n",
       "    <tr>\n",
       "      <th>text_summary_Chiquitania_MDRyT</th>\n",
       "      <td>Existe preocupación de los ganaderos por la presencia por la continuidad de sequía débil, moderada, severa y extrema en especial en los municipios de San Matías, San José de Chiquitos así también secundado por los municipios de la zona central del la macroregion de la chiquitanía.</td>\n",
       "    </tr>\n",
       "    <tr>\n",
       "      <th>text_summary_Llanuras_Sabanas_MDRyT</th>\n",
       "      <td>Con respecto al anterior mes los municipios de Magdalena, Huacaraje, San Ramon y Baures de sequía débil se observan sequias moderadas y extremas que de continuar esta tendencia en octubre traería posibles afectaciones a ganaderos. Así también se observa condiciones favorables en el sur de macroregion llanuras sabanas.</td>\n",
       "    </tr>\n",
       "    <tr>\n",
       "      <th>text_summary_Yungas_Chapare_MDRyT</th>\n",
       "      <td>Se mantiene intensidad de la sequía débil excepto el norte de los municipios de  Apolo, Palos Blancos y Cocapata que presenta intensidad de sequia moderada, el índice de salud de la vegetación VHI muestran valores de normal, moderadamente buena, y mala, por le que la actividad agrícola no registra afectaciones significativas.</td>\n",
       "    </tr>\n",
       "    <tr>\n",
       "      <th>text_summary_Valles_MDRyT</th>\n",
       "      <td>Las condiciones para la agricultura intensiva en los vales la intensidad de sequ&amp;#237;a muestra valores favorables excepto los vales de los municipios de Tupiza, Cotagaita, EL Puente, Las Carreras, Villa Abecia, Camargo que registraron una sequ&amp;#237;a d&amp;#233;bil como as&amp;#237; tambi&amp;#233;n el &amp;#237;ndice de salud de la vegetaci&amp;#243;n de normal, mala y muy mala.&lt;div&gt;&lt;br&gt;&lt;/div&gt;</td>\n",
       "    </tr>\n",
       "    <tr>\n",
       "      <th>geojson</th>\n",
       "      <td>data/sequia/202109.geojson</td>\n",
       "    </tr>\n",
       "    <tr>\n",
       "      <th>text_summary_Chiquitania_VIDECI</th>\n",
       "      <td>La Macroregión Chiquitanía para el mes de septiembre presentó eventos de sequía débil a moderada con un incremento en municipios llegando a cubrir toda la macroregión exceptuando los municipios de mineros, General Saavedra, Montero. Se evidencio un incremento de intensidad significativo en San Matias y Concepción.</td>\n",
       "    </tr>\n",
       "    <tr>\n",
       "      <th>text_subtitle</th>\n",
       "      <td>SEPTIEMBRE 2021</td>\n",
       "    </tr>\n",
       "    <tr>\n",
       "      <th>text_summary_Chaco_VIDECI</th>\n",
       "      <td>En la Macroregi&amp;#243;n Chaco en &amp;#237;ndice combinado de sequ&amp;#237;a se redujo considerablemente pero a&amp;#250;n se mantienen los municipios de Machareti en el departamento de Chuquisaca; Charagua, Guti&amp;#233;rrez, Boyuibe, Cabezas en Santa Cruz y los municipios de Yacuiba y Villamontes en Tarija que presentan &amp;#237;ndices de sequ&amp;#237;a d&amp;#233;bil a moderada, los dem&amp;#225;s Municipios no presentan cambios a las condiciones de sequ&amp;#237;a del anterior mes.</td>\n",
       "    </tr>\n",
       "    <tr>\n",
       "      <th>text_summary_Amazonia_VIDECI</th>\n",
       "      <td>En Amazonia se pudo notar un ligero incremento de área posiblemente afectada entre ellos se encuentran el municipio de Riberalta, Puerto Menor de Rurrenabaque, San Borja y Guayaramerín en el departamento de Beni. San Buenaventura e Ixiamas en el departamento de La Paz y Filadelfia, Santos Mercado, Bolpebra, Porvenir, Bella Flor, Ingavi y Nueva Esperanza en Pando. Los índices de sequía fueron incrementándose en esta macroregión.</td>\n",
       "    </tr>\n",
       "    <tr>\n",
       "      <th>text_summary_Valles_VIDECI</th>\n",
       "      <td>De igual forma el número de municipios en los Valles se han mantenido en cinco departamentos  los municipios de Poroma en Chuquisaca; Pojo, Sacaba, Arbieto, Vinto, Sipesipe, Cochabamba, Colomi, Totora, Anzaldo y Santivañez; Quime en el Departamento de La Paz; Ravelo y Torotoro en Potosi; y en Santa Cruz se encuentran Vallegrande, Comarapa, Postrervalle y Samaipata.</td>\n",
       "    </tr>\n",
       "  </tbody>\n",
       "</table>\n",
       "</div>"
      ],
      "text/plain": [
       "                                                                                                                                                                                                                                                                                                                                                                                                                                                                                                                                                         3\n",
       "date                                                                                                                                                                                                                                                                                                                                                                                                                                                                                                                                   2021-09-01 00:00:00\n",
       "dateto                                                                                                                                                                                                                                                                                                                                                                                                                                                                                                                                 2021-09-30 00:00:00\n",
       "timestamp                                                                                                                                                                                                                                                                                                                                                                                                                                                                                                                 2021-10-11 12:20:56.229544+00:00\n",
       "last_modified                                                                                                                                                                                                                                                                                                                                                                                                                                                                                                             2021-10-15 22:12:10.687162+00:00\n",
       "text_summary_general_SENAMHI           En el mes de septiembre se observ&#243; un &#237;ndice combinado de sequ&#237;a entre moderado y d&#233;bil en gran parte de las macroregiones de Altiplano, Yungas-Chapare, Sabanas-Llanuras y Amazonia; un &#237;ndice combinado de sequ&#237;a desde d&#233;bil a extrema en gran parte de las macroregiones de la Chiquitania y Chaco; de manera puntual un &#237;ndice combinado de sequ&#237;a d&#233;bil en la macroregi&#243;n de los Valles.&#160;<div>En cuanto al d&#233;ficit de agua en el suelo (S...\n",
       "text_summary_general_VIDECI            De acuerdo al análisis de vulnerabilidad y riesgo, prevalece la alerta nivel Naranja por sequía en las regiones Altiplano, Amazonia, Chaco, Chiquitania, LLanuras Sabanas y Yungas Chapare con eventos de sequía débil a moderada, septiembre presentó con relación al pasado mes un ligero incremento en índices de sequía en la región altiplano aunque persisten algunos municipios, se evidencio también un aumento en la intensidad de índices de sequía en la Amazonia, se incrementó el territorio suscep...\n",
       "text_summary_Amazonia_MMAyA                                                                                                                                                                                                                                                                                                                                                                                                      No se identifican situaciones de sequ&#237;a cr&#237;ticas en la macroregi&#243;n Amazonia para el sector de competencia.\n",
       "text_summary_Amazonia_SENAMHI          En el mes de septiembre se observ&#243; un &#237;ndice cambiando de sequ&#237;a entre d&#233;bil a moderado en gran parte de la macrorregi&#243;n y de manera puntual un &#237;ndice combinado de sequ&#237;a severa al Noreste.&#160;<br><span>En cuanto a d&#233;ficit de agua en el suelo (SWDI) las Cuencas con valores significativos desde seco a extremadamente seco son: Abun&#225;, Mamor&#233; (Cuenca alta y baja), Beni (cuenca baja y media). Todos con niveles muy bajos en r&#237;os principales ...\n",
       "text_summary_Chaco_SENAMHI             En el mes de septiembre se observ&#243; un &#237;ndice cambiando de sequ&#237;a entre d&#233;bil en gran parte de la macroregion del Chaco y demanera puntual al Centro, Norte y Este de la macroregion.&#160;<div>En cuanto a d&#233;ficit de agua en el suelo (SWDI) las Cuencas que presentan valores significativos desde seco a extremadamente seco son: Parapet&#237; (cuenca baja), San Miguel y afluentes secundarios. Todos con niveles muy bajos en r&#237;os principales y afluentes secundarios.&#16...\n",
       "text_summary_Chaco_MMAyA                                                                                                                                                                                                                                                                                                                                                                                                                                         Cuencas con presencia de sequ&#237;a: Rio Quimome y R&#237;o San Ramon &#8211; Curupayty.\n",
       "text_summary_Chiquitania_SENAMHI       En el mes de septiembre se observ&#243; un &#237;ndice cambiando de sequ&#237;a entre d&#233;bil a moderado y severo en gran parte de la macroregion y de manera puntual un &#237;ndice combinado de sequ&#237;a extrema al Centro y Este.&#160;<div>En cuanto a d&#233;ficit de agua en el suelo (SWDI) las Cuencas que presentan valores significativos desde seco a extremadamente seco son: Tucabaca, San Miguel, C&#225;ceres, Curiche Grande, Blanco, San Mart&#237;n, Paragu&#225;, Itenez Norte, Itenez ...\n",
       "text_summary_Chiquitania_MMAyA                                                                                                                                                                                                                                                                                                                           Cuencas con presencia de sequ&#237;a: R&#237;o Blanco, R&#237;o Itonomas, R&#237;o Santa Mar&#237;a, R&#237;o Paragua, R&#237;o Curiche Grande, R&#237;o Tucavaca y Qda. Bah&#237;a C&#225;ceres.\n",
       "text_summary_Llanuras_Sabanas_SENAMHI  En el mes de septiembre se observ&#243; un &#237;ndice cambiando de sequ&#237;a entre d&#233;bil a moderado en gran parte de la macroregi&#243;n y de manera puntual un &#237;ndice combinado de sequ&#237;a severa al Centro y Noreste.&#160;<div>En cuanto a d&#233;ficit de agua en el suelo (SWDI) las Cuencas que presentan valores significativos desde seco a extremadamente seco son: Mamor&#233; (Cuenca alta y baja), Isiboro, Ichilo, Maniqu&#237;, Machupo, Itenez, Yacuma, Beni (cuenca baja y medi...\n",
       "text_summary_Altiplano_SENAMHI         En el mes de septiembre se observ&#243; un &#237;ndice cambiando de sequ&#237;a entre d&#233;bil a moderado al Noroeste, Sudoeste y Centro de la macroregi&#243;n; de manera puntual un &#237;ndice combinado de sequ&#237;a severo en la regi&#243;n Central.&#160;<div>En cuanto a d&#233;ficit de agua en el suelo (SWDI) las Cuencas que presentan valores significativos desde seco a extremadamente seco son: Desaguadero (cuenca baja), Poop&#243;, Salar de Uyuni y Quebradas de toda la regi&#243;n (Ce...\n",
       "text_summary_Yungas_Chapare_SENAMHI    En el mes de septiembre se observ&#243; un &#237;ndice cambiando de sequ&#237;a entre d&#233;bil a moderado al Noroeste, Oeste, Norte y Sudeste de la macroregi&#243;n.&#160;<div>En cuanto a d&#233;ficit de agua en el suelo (SWDI) las Cuencas que presentan valores significativos desde seco a extremadamente seco son: Beni (cuenca media), Isiboro (cabecera), Ichilo, Cotacajes y afluentes secundarios. Todos con niveles muy bajos en sus r&#237;os tanto principales como secundarios.&#160;</div><di...\n",
       "text_summary_general_MDRyT             Para la actividades agropecuarias se observa con mayor preocupación el incremento de la sequía con relación a los meses precedentes desde junio en regiones focalizadas de las macroregiones de la  chiquitanía , chaco, y altiplano a moderada, severa e incluso registrándose  extremas que hubiese afectado la disponibilidad de consumo de agua y alimento para el ganado según reportes de municipios y prensa,   causando enfermedades, baja conversión alimenticia  y muerte de ganado camélido, bobino y...\n",
       "text_summary_Altiplano_MDRyT                                                                                En el mes de octubre, el altiplano registra reducción de la intensidad de sequía débil favorable para el inicio de la campaña agrícola de verano que están en época de siembras y zonas focalizadas de intensidad de sequía de débil a moderada que afectó el ganado camélido por falta de agua y alimento para consumo de ganado causando deshidratación y mortandad, por lo que la Gobernación de Oruro se declara en emergencia por sequía.\n",
       "text_summary_Valles_SENAMHI            En el mes de septiembre se observ&#243; un &#237;ndice cambiando de sequ&#237;a entre d&#233;bil a moderado de manera puntual al Norte, Centro y Sur de la macroregion.&#160;<div>En cuanto a d&#233;ficit de agua en el suelo (SWDI) las Cuencas que presentan valores moderadamente secos de d&#233;ficit de agua son las cuencas: Mizque, Capinota, Grande (Cabecera), Alto Pilcomayo, Pilcomayo (cuenca media), Tum&#250;sla, San Juan del Oro, Guadalquivir, Bermejo y afluentes secundarios. Todos con niv...\n",
       "text_summary_general_MMAyA                                                                                                                                                                                                                                                                                                                                                                                           Se identificaron 11 cuencas con presencia de sequía moderada a severa y 3 embalses con niveles de volumen bajos respecto a la normal.\n",
       "text_summary_Llanuras_Sabanas_MMAyA                                                                                                                                                                                                                                                                                                                                                                                                                                                                    Cuenca con presencia de sequ&#237;a: R&#237;o Yata.\n",
       "text_summary_Altiplano_VIDECI          Para septiembre la macroregión Altiplano presenta un desenso en la intensidad distribuyéndose el índice hacia el norte del departamento de Oruro. Se observo que puede existir afectacion en los Municipio de Santiago de Huata, Calacoto, Puerto Mayor de Guaqui, Pucarani y Tiahuanacu en el Departamento de La Paz.  Caracollo, Totora, Pampa Aullagas, Andamarca, Santiago de Huari, El Choro, Challapata, Toledo, Santuario de Quillacas y Pazña en Oruro y finalmente Tomave, Colcha \"K\", Uyuni y San Pedr...\n",
       "text_summary_Yungas_Chapare_MMAyA                                                                                                                                                                                                                                                                                                            En la cuenca del R&#237;o Cotacajes, la subcuenca Escalerani presenta en su embalse un volumen de almacenamiento levemente deficitario (10% por debajo de la media) comparado con el registro hist&#243;rico.\n",
       "text_summary_Valles_MMAyA                                                                                                                                                                                     Dentro la subcuenca del R&#237;o Sulty el embalse de La Angostura (cuenca baja) presenta un volumen de almacenamiento extremadamente deficitario (8% de su capacidad); en cuenca alta el embalse Totora Qhocha (cuenca alta) presentan un almacenamiento levemente bajo (aproximadamente 10% por debajo del registro hist&#243;rico normal).\n",
       "text_summary_Altiplano_MMAyA                                                                                                                                                                                                                                                                                                                                                                                                                                                                         Cuenca con presencia de sequ&#237;a: Lago Poop&#243;.\n",
       "text_summary_Amazonia_MDRyT                                                                                                                                 Para el mes de julio identifica incremento de valores de sequía débil y zonas focalizadas sequia moderada en el sur de los municipios de Ixiamas, San Buenventura, San Borja y Rurrenabaque así también del índice de la salud de la vegetación VHI con valores de normal, mala y muy mala, por lo que hay riesgo en las actividades agropecuarias de no existir mejoras en el mes de octubre.\n",
       "text_summary_Chaco_MDRyT                                                                                                                              Las condiciones de sequía débil, severa y extrema continuaron respecto al mes de agosto en algunas zonas focalizadas, así también el índice de salud de la vegetación (VHI) identifica valores de condiciones muy malas y pésimas en mayor proporción por lo que afectaron la actividad ganadera causando muertes por falta de agua y consumo para ganado según reportes del municipio de Macharetí.\n",
       "text_footer_contact                                                                                                                                                                                                                                                                                                                                                                                                                                                                                                          monitorsequias@senamhi.gob.bo\n",
       "text_summary_Yungas_Chapare_VIDECI                                                                   Se observó un índice combinado de sequias con baja intensidad en los municipios de la macroregión de Yungas y Chapare. El Departamento de Cochabamba se encuentran propensos los municipios de Cocapata, Puerto Villarroel, Chimoré, Entre Ríos, Villa Tunari y Shinahota; Charazani, Alto Beni, Caranavi, Apolo, Pelechuco, Cajuata, Guanay, Mapiri, Tacacoma, Coripata, La Asunta, Irupana, Palos Blancos y Chulumani en el Departamento de La Paz.\n",
       "text_footer_author                                                                                                                                                                                                                                                                                                                                                                                                                                                                                                              SENAMHI-MMAyA-MDRyT-VIDECI\n",
       "text_summary_Llanuras_Sabanas_VIDECI                                                                                                                                                                                                                                                                                                                                                                                                     No se identifican situaciones de sequía críticas en la macroregión Llanuras Sábanas para el sector de competencia\n",
       "text_summary_Chiquitania_MDRyT                                                                                                                                                                                                                                   Existe preocupación de los ganaderos por la presencia por la continuidad de sequía débil, moderada, severa y extrema en especial en los municipios de San Matías, San José de Chiquitos así también secundado por los municipios de la zona central del la macroregion de la chiquitanía.\n",
       "text_summary_Llanuras_Sabanas_MDRyT                                                                                                                                                                                        Con respecto al anterior mes los municipios de Magdalena, Huacaraje, San Ramon y Baures de sequía débil se observan sequias moderadas y extremas que de continuar esta tendencia en octubre traería posibles afectaciones a ganaderos. Así también se observa condiciones favorables en el sur de macroregion llanuras sabanas.\n",
       "text_summary_Yungas_Chapare_MDRyT                                                                                                                                                                                  Se mantiene intensidad de la sequía débil excepto el norte de los municipios de  Apolo, Palos Blancos y Cocapata que presenta intensidad de sequia moderada, el índice de salud de la vegetación VHI muestran valores de normal, moderadamente buena, y mala, por le que la actividad agrícola no registra afectaciones significativas.\n",
       "text_summary_Valles_MDRyT                                                                                                                                       Las condiciones para la agricultura intensiva en los vales la intensidad de sequ&#237;a muestra valores favorables excepto los vales de los municipios de Tupiza, Cotagaita, EL Puente, Las Carreras, Villa Abecia, Camargo que registraron una sequ&#237;a d&#233;bil como as&#237; tambi&#233;n el &#237;ndice de salud de la vegetaci&#243;n de normal, mala y muy mala.<div><br></div>\n",
       "geojson                                                                                                                                                                                                                                                                                                                                                                                                                                                                                                                         data/sequia/202109.geojson\n",
       "text_summary_Chiquitania_VIDECI                                                                                                                                                                                                La Macroregión Chiquitanía para el mes de septiembre presentó eventos de sequía débil a moderada con un incremento en municipios llegando a cubrir toda la macroregión exceptuando los municipios de mineros, General Saavedra, Montero. Se evidencio un incremento de intensidad significativo en San Matias y Concepción.\n",
       "text_subtitle                                                                                                                                                                                                                                                                                                                                                                                                                                                                                                                              SEPTIEMBRE 2021\n",
       "text_summary_Chaco_VIDECI                                                        En la Macroregi&#243;n Chaco en &#237;ndice combinado de sequ&#237;a se redujo considerablemente pero a&#250;n se mantienen los municipios de Machareti en el departamento de Chuquisaca; Charagua, Guti&#233;rrez, Boyuibe, Cabezas en Santa Cruz y los municipios de Yacuiba y Villamontes en Tarija que presentan &#237;ndices de sequ&#237;a d&#233;bil a moderada, los dem&#225;s Municipios no presentan cambios a las condiciones de sequ&#237;a del anterior mes.\n",
       "text_summary_Amazonia_VIDECI                                                                               En Amazonia se pudo notar un ligero incremento de área posiblemente afectada entre ellos se encuentran el municipio de Riberalta, Puerto Menor de Rurrenabaque, San Borja y Guayaramerín en el departamento de Beni. San Buenaventura e Ixiamas en el departamento de La Paz y Filadelfia, Santos Mercado, Bolpebra, Porvenir, Bella Flor, Ingavi y Nueva Esperanza en Pando. Los índices de sequía fueron incrementándose en esta macroregión.\n",
       "text_summary_Valles_VIDECI                                                                                                                                                 De igual forma el número de municipios en los Valles se han mantenido en cinco departamentos  los municipios de Poroma en Chuquisaca; Pojo, Sacaba, Arbieto, Vinto, Sipesipe, Cochabamba, Colomi, Totora, Anzaldo y Santivañez; Quime en el Departamento de La Paz; Ravelo y Torotoro en Potosi; y en Santa Cruz se encuentran Vallegrande, Comarapa, Postrervalle y Samaipata."
      ]
     },
     "metadata": {},
     "output_type": "display_data"
    }
   ],
   "source": [
    "display(Markdown('Existen {} boletines, cada uno con {} campos, de los cuales {} son textos de resumen. Un boletín tiene estos campos:'.format(\n",
    "    df.shape[0],\n",
    "    df.shape[1],\n",
    "    len([col for col in df.columns if 'text_' in col])\n",
    ")))\n",
    "display(df.sample().T)"
   ]
  },
  {
   "cell_type": "code",
   "execution_count": 160,
   "id": "c71bfab8-c897-45c5-a8d5-69a37ebaf4a7",
   "metadata": {
    "execution": {
     "iopub.execute_input": "2022-08-02T02:10:43.804609Z",
     "iopub.status.busy": "2022-08-02T02:10:43.804090Z",
     "iopub.status.idle": "2022-08-02T02:10:43.822216Z",
     "shell.execute_reply": "2022-08-02T02:10:43.821443Z",
     "shell.execute_reply.started": "2022-08-02T02:10:43.804548Z"
    },
    "tags": []
   },
   "outputs": [],
   "source": [
    "df.to_csv('data/boletines.csv', index=False)"
   ]
  },
  {
   "cell_type": "markdown",
   "id": "8ea2c6f7-218a-492b-9940-4cccd1e8686c",
   "metadata": {},
   "source": [
    "Un mapa contiene una lista de polígonos, cada uno con 2 atributos: `cat` y `niv`. `niv` es el nivel de sequía, que puede ser un valor del 1 (débil) al 4 (extremo). Territorios sin una clasificación son considerados normales. A continuación visualizo los 4 últimos mapas en el sistema:"
   ]
  },
  {
   "cell_type": "code",
   "execution_count": 71,
   "id": "e7c853f4-39ee-4143-87b4-dd2ec4f3332c",
   "metadata": {
    "execution": {
     "iopub.execute_input": "2022-08-02T00:47:26.909358Z",
     "iopub.status.busy": "2022-08-02T00:47:26.909005Z",
     "iopub.status.idle": "2022-08-02T00:47:26.913709Z",
     "shell.execute_reply": "2022-08-02T00:47:26.912255Z",
     "shell.execute_reply.started": "2022-08-02T00:47:26.909324Z"
    },
    "tags": []
   },
   "outputs": [],
   "source": [
    "dep = gpd.read_file('../0_common/mapas/departamentos.geojson') # límites departamentales\n",
    "background = '#c2c8cc' # el fondo de la figura"
   ]
  },
  {
   "cell_type": "code",
   "execution_count": 70,
   "id": "4c2a4f1b-536d-41f9-927d-c66b3bbb6318",
   "metadata": {
    "execution": {
     "iopub.execute_input": "2022-08-02T00:47:16.190487Z",
     "iopub.status.busy": "2022-08-02T00:47:16.190084Z",
     "iopub.status.idle": "2022-08-02T00:47:16.201292Z",
     "shell.execute_reply": "2022-08-02T00:47:16.200138Z",
     "shell.execute_reply.started": "2022-08-02T00:47:16.190444Z"
    },
    "tags": []
   },
   "outputs": [],
   "source": [
    "def plot_sequia(gdf, title, ax=None):\n",
    "    \n",
    "    note_color = '#686f73'\n",
    "    if ax is None:\n",
    "        f, ax = plt.subplots(1,1,figsize=(4,4), dpi=150)\n",
    "        f.set_facecolor(background)\n",
    "    gdf.plot(ax=ax, column='niv', cmap='OrRd')\n",
    "    dep[dep.DESCRIPCIO == 'Departamento'].plot(ax=ax, facecolor=\"none\", edgecolor=note_color, lw=.5)\n",
    "    ax.set_axis_off()\n",
    "    ax.annotate(title, xy=(.55, .85), xycoords='axes fraction', fontfamily='NYTImperial', fontstyle='italic', fontsize=15, color=note_color)"
   ]
  },
  {
   "cell_type": "code",
   "execution_count": 84,
   "id": "66598a11-929e-4ec0-be2d-05efc0b9a20b",
   "metadata": {
    "execution": {
     "iopub.execute_input": "2022-08-02T00:54:49.813985Z",
     "iopub.status.busy": "2022-08-02T00:54:49.813671Z",
     "iopub.status.idle": "2022-08-02T00:54:51.656609Z",
     "shell.execute_reply": "2022-08-02T00:54:51.655727Z",
     "shell.execute_reply.started": "2022-08-02T00:54:49.813957Z"
    },
    "tags": []
   },
   "outputs": [
    {
     "data": {
      "text/markdown": [
       "![](plots/sequia2022.png)"
      ],
      "text/plain": [
       "<IPython.core.display.Markdown object>"
      ]
     },
     "metadata": {},
     "output_type": "display_data"
    }
   ],
   "source": [
    "f, axs = plt.subplots(2,2,figsize=(8,8), dpi=150)\n",
    "axs = axs.flatten()\n",
    "plt.subplots_adjust(hspace=.01, wspace=.01)\n",
    "f.set_facecolor(background)\n",
    "\n",
    "for ax, (i, row) in zip(axs, df.iloc[-4:].iterrows()):\n",
    "    gdf = gpd.read_file(row['geojson'])\n",
    "    title = row['date'].strftime('%B')\n",
    "    plot_sequia(gdf, title, ax=ax)\n",
    "    \n",
    "filename = 'plots/sequia2022.png'\n",
    "f.savefig(filename, bbox_inches='tight', pad_inches=.2, dpi=150)\n",
    "plt.close()\n",
    "display(Markdown(\"![]({})\".format(filename)))"
   ]
  },
  {
   "cell_type": "markdown",
   "id": "edab8303-ebe3-4cbf-a314-f0fed9e7c518",
   "metadata": {},
   "source": [
    "[Los mapas deslizantes en el sitio oficial](http://monitorsequias.senamhi.gob.bo/#/maps/slider) son mucho más ilustrativos."
   ]
  },
  {
   "cell_type": "markdown",
   "id": "5ac0af7c-3208-4f59-88fc-aa377c023f3a",
   "metadata": {},
   "source": [
    "Finalmente, las series de tiempo están listadas en [un directorio apache](https://bolivia.mydewetra.cimafoundation.org/drought_public/MSBI/). Vienen en 3 formatos: `csv` en decimales, `csv` en porcentajes y `json` en decimales, para cada región y a nivel nacional. Tomo los `csv` en decimales:"
   ]
  },
  {
   "cell_type": "code",
   "execution_count": 123,
   "id": "2758f8ad-51e0-4064-940a-c106e5fd05bb",
   "metadata": {
    "execution": {
     "iopub.execute_input": "2022-08-02T01:57:37.722869Z",
     "iopub.status.busy": "2022-08-02T01:57:37.722632Z",
     "iopub.status.idle": "2022-08-02T01:57:38.288979Z",
     "shell.execute_reply": "2022-08-02T01:57:38.288322Z",
     "shell.execute_reply.started": "2022-08-02T01:57:37.722843Z"
    },
    "tags": []
   },
   "outputs": [],
   "source": [
    "APACHE_INDEX = 'https://bolivia.mydewetra.cimafoundation.org/drought_public/MSBI'\n",
    "apache = pd.read_html(APACHE_INDEX)[0]\n",
    "csvs = apache[(apache.Name.notna()) & (apache.Name.str.contains('last.csv'))].Name.tolist()"
   ]
  },
  {
   "cell_type": "code",
   "execution_count": 124,
   "id": "4f436e2d-edcb-455f-b14d-b79c6361d90f",
   "metadata": {
    "execution": {
     "iopub.execute_input": "2022-08-02T01:57:38.883893Z",
     "iopub.status.busy": "2022-08-02T01:57:38.883549Z",
     "iopub.status.idle": "2022-08-02T01:57:38.890914Z",
     "shell.execute_reply": "2022-08-02T01:57:38.889880Z",
     "shell.execute_reply.started": "2022-08-02T01:57:38.883855Z"
    },
    "tags": []
   },
   "outputs": [
    {
     "data": {
      "text/plain": [
       "['MSBI_Altiplano_last.csv',\n",
       " 'MSBI_Altiplano_perc_last.csv',\n",
       " 'MSBI_Amazonia_last.csv',\n",
       " 'MSBI_Amazonia_perc_last.csv',\n",
       " 'MSBI_Bolivia_last.csv',\n",
       " 'MSBI_Bolivia_perc_last.csv',\n",
       " 'MSBI_Chaco_last.csv',\n",
       " 'MSBI_Chaco_perc_last.csv',\n",
       " 'MSBI_Chiquitania_last.csv',\n",
       " 'MSBI_Chiquitania_perc_last.csv',\n",
       " 'MSBI_Llanuras_Sabanas_last.csv',\n",
       " 'MSBI_Llanuras_Sabanas_perc_last.csv',\n",
       " 'MSBI_Valles_last.csv',\n",
       " 'MSBI_Valles_perc_last.csv',\n",
       " 'MSBI_Yungas_Chapare_last.csv',\n",
       " 'MSBI_Yungas_Chapare_perc_last.csv']"
      ]
     },
     "execution_count": 124,
     "metadata": {},
     "output_type": "execute_result"
    }
   ],
   "source": [
    "csvs"
   ]
  },
  {
   "cell_type": "markdown",
   "id": "d139d3e6-e801-41c3-824e-470231dd4809",
   "metadata": {},
   "source": [
    "Cada csv tiene una columna para la fecha y otras cinco para niveles de sequía, incluyendo un nivel `0` para donde la situación es normal. Cada valor es el porcentaje de territorio que clasifica dentro de cada nivel de sequía en el periodo de reporte. Ésta es la forma de una tabla:"
   ]
  },
  {
   "cell_type": "code",
   "execution_count": 158,
   "id": "5a863046-5f37-45cd-bbcc-771613ce4088",
   "metadata": {
    "execution": {
     "iopub.execute_input": "2022-08-02T02:09:16.545782Z",
     "iopub.status.busy": "2022-08-02T02:09:16.545451Z",
     "iopub.status.idle": "2022-08-02T02:09:16.610866Z",
     "shell.execute_reply": "2022-08-02T02:09:16.610087Z",
     "shell.execute_reply.started": "2022-08-02T02:09:16.545755Z"
    },
    "tags": []
   },
   "outputs": [
    {
     "data": {
      "text/html": [
       "<div>\n",
       "<style scoped>\n",
       "    .dataframe tbody tr th:only-of-type {\n",
       "        vertical-align: middle;\n",
       "    }\n",
       "\n",
       "    .dataframe tbody tr th {\n",
       "        vertical-align: top;\n",
       "    }\n",
       "\n",
       "    .dataframe thead th {\n",
       "        text-align: right;\n",
       "    }\n",
       "</style>\n",
       "<table border=\"1\" class=\"dataframe\">\n",
       "  <thead>\n",
       "    <tr style=\"text-align: right;\">\n",
       "      <th></th>\n",
       "      <th>date</th>\n",
       "      <th>LEV_0</th>\n",
       "      <th>LEV_1</th>\n",
       "      <th>LEV_2</th>\n",
       "      <th>LEV_3</th>\n",
       "      <th>LEV_4</th>\n",
       "    </tr>\n",
       "  </thead>\n",
       "  <tbody>\n",
       "    <tr>\n",
       "      <th>0</th>\n",
       "      <td>2007-02</td>\n",
       "      <td>0.53</td>\n",
       "      <td>0.34</td>\n",
       "      <td>0.13</td>\n",
       "      <td>0.01</td>\n",
       "      <td>0.0</td>\n",
       "    </tr>\n",
       "    <tr>\n",
       "      <th>1</th>\n",
       "      <td>2007-03</td>\n",
       "      <td>0.86</td>\n",
       "      <td>0.13</td>\n",
       "      <td>0.01</td>\n",
       "      <td>0.00</td>\n",
       "      <td>0.0</td>\n",
       "    </tr>\n",
       "    <tr>\n",
       "      <th>2</th>\n",
       "      <td>2007-04</td>\n",
       "      <td>0.79</td>\n",
       "      <td>0.19</td>\n",
       "      <td>0.02</td>\n",
       "      <td>0.00</td>\n",
       "      <td>0.0</td>\n",
       "    </tr>\n",
       "    <tr>\n",
       "      <th>3</th>\n",
       "      <td>2007-05</td>\n",
       "      <td>0.94</td>\n",
       "      <td>0.06</td>\n",
       "      <td>0.00</td>\n",
       "      <td>0.00</td>\n",
       "      <td>0.0</td>\n",
       "    </tr>\n",
       "    <tr>\n",
       "      <th>4</th>\n",
       "      <td>2007-06</td>\n",
       "      <td>0.77</td>\n",
       "      <td>0.21</td>\n",
       "      <td>0.02</td>\n",
       "      <td>0.00</td>\n",
       "      <td>0.0</td>\n",
       "    </tr>\n",
       "    <tr>\n",
       "      <th>...</th>\n",
       "      <td>...</td>\n",
       "      <td>...</td>\n",
       "      <td>...</td>\n",
       "      <td>...</td>\n",
       "      <td>...</td>\n",
       "      <td>...</td>\n",
       "    </tr>\n",
       "    <tr>\n",
       "      <th>179</th>\n",
       "      <td>2022-01</td>\n",
       "      <td>0.71</td>\n",
       "      <td>0.28</td>\n",
       "      <td>0.01</td>\n",
       "      <td>0.00</td>\n",
       "      <td>0.0</td>\n",
       "    </tr>\n",
       "    <tr>\n",
       "      <th>180</th>\n",
       "      <td>2022-02</td>\n",
       "      <td>0.78</td>\n",
       "      <td>0.21</td>\n",
       "      <td>0.00</td>\n",
       "      <td>0.00</td>\n",
       "      <td>0.0</td>\n",
       "    </tr>\n",
       "    <tr>\n",
       "      <th>181</th>\n",
       "      <td>2022-03</td>\n",
       "      <td>0.51</td>\n",
       "      <td>0.43</td>\n",
       "      <td>0.06</td>\n",
       "      <td>0.00</td>\n",
       "      <td>0.0</td>\n",
       "    </tr>\n",
       "    <tr>\n",
       "      <th>182</th>\n",
       "      <td>2022-04</td>\n",
       "      <td>0.41</td>\n",
       "      <td>0.52</td>\n",
       "      <td>0.07</td>\n",
       "      <td>0.00</td>\n",
       "      <td>0.0</td>\n",
       "    </tr>\n",
       "    <tr>\n",
       "      <th>183</th>\n",
       "      <td>2022-05</td>\n",
       "      <td>0.42</td>\n",
       "      <td>0.51</td>\n",
       "      <td>0.07</td>\n",
       "      <td>0.00</td>\n",
       "      <td>0.0</td>\n",
       "    </tr>\n",
       "  </tbody>\n",
       "</table>\n",
       "<p>184 rows × 6 columns</p>\n",
       "</div>"
      ],
      "text/plain": [
       "        date  LEV_0  LEV_1  LEV_2  LEV_3  LEV_4\n",
       "0    2007-02   0.53   0.34   0.13   0.01    0.0\n",
       "1    2007-03   0.86   0.13   0.01   0.00    0.0\n",
       "2    2007-04   0.79   0.19   0.02   0.00    0.0\n",
       "3    2007-05   0.94   0.06   0.00   0.00    0.0\n",
       "4    2007-06   0.77   0.21   0.02   0.00    0.0\n",
       "..       ...    ...    ...    ...    ...    ...\n",
       "179  2022-01   0.71   0.28   0.01   0.00    0.0\n",
       "180  2022-02   0.78   0.21   0.00   0.00    0.0\n",
       "181  2022-03   0.51   0.43   0.06   0.00    0.0\n",
       "182  2022-04   0.41   0.52   0.07   0.00    0.0\n",
       "183  2022-05   0.42   0.51   0.07   0.00    0.0\n",
       "\n",
       "[184 rows x 6 columns]"
      ]
     },
     "execution_count": 158,
     "metadata": {},
     "output_type": "execute_result"
    }
   ],
   "source": [
    "pd.read_csv('{}/{}'.format(APACHE_INDEX, csvs[0]))"
   ]
  },
  {
   "cell_type": "markdown",
   "id": "b2340966-65d8-41a1-a176-626dc2a98621",
   "metadata": {},
   "source": [
    "La forma más concisa sería una tabla con 4 columnas: `fecha`, `región`, `nivel` y `porcentaje`. Costruyo esta tabla con todas las series de tiempo disponibles:"
   ]
  },
  {
   "cell_type": "code",
   "execution_count": 155,
   "id": "0490ec9e-70db-4d3f-ba33-4c27e5fb2ec5",
   "metadata": {
    "execution": {
     "iopub.execute_input": "2022-08-02T02:08:25.566956Z",
     "iopub.status.busy": "2022-08-02T02:08:25.566614Z",
     "iopub.status.idle": "2022-08-02T02:08:27.081652Z",
     "shell.execute_reply": "2022-08-02T02:08:27.081065Z",
     "shell.execute_reply.started": "2022-08-02T02:08:25.566911Z"
    },
    "tags": []
   },
   "outputs": [],
   "source": [
    "timeseries = []\n",
    "for csv in csvs:\n",
    "    name = re.findall('MSBI_(.*)_last.csv', csv)[0]\n",
    "    timeserie = pd.read_csv('{}/{}'.format(APACHE_INDEX, csv), index_col=['date'])\n",
    "    timeserie = timeserie.stack().reset_index(name='porcentaje')\n",
    "    timeserie.insert(0, 'region', name)\n",
    "    timeseries.append(timeserie)\n",
    "timeseries = pd.concat(timeseries)\n",
    "timeseries.columns = ['region', 'date', 'nivel', 'porcentaje']\n",
    "timeseries['date'] = pd.to_datetime(timeseries['date'])\n",
    "timeseries['nivel'] = timeseries['nivel'].apply(lambda x: int(x.split('_')[-1]))"
   ]
  },
  {
   "cell_type": "code",
   "execution_count": 156,
   "id": "17447dcc-c99f-4a3b-a540-cb51dbc5027d",
   "metadata": {
    "execution": {
     "iopub.execute_input": "2022-08-02T02:08:31.491109Z",
     "iopub.status.busy": "2022-08-02T02:08:31.490474Z",
     "iopub.status.idle": "2022-08-02T02:08:31.512658Z",
     "shell.execute_reply": "2022-08-02T02:08:31.511787Z",
     "shell.execute_reply.started": "2022-08-02T02:08:31.491058Z"
    },
    "tags": []
   },
   "outputs": [
    {
     "data": {
      "text/html": [
       "<div>\n",
       "<style scoped>\n",
       "    .dataframe tbody tr th:only-of-type {\n",
       "        vertical-align: middle;\n",
       "    }\n",
       "\n",
       "    .dataframe tbody tr th {\n",
       "        vertical-align: top;\n",
       "    }\n",
       "\n",
       "    .dataframe thead th {\n",
       "        text-align: right;\n",
       "    }\n",
       "</style>\n",
       "<table border=\"1\" class=\"dataframe\">\n",
       "  <thead>\n",
       "    <tr style=\"text-align: right;\">\n",
       "      <th></th>\n",
       "      <th>region</th>\n",
       "      <th>date</th>\n",
       "      <th>nivel</th>\n",
       "      <th>porcentaje</th>\n",
       "    </tr>\n",
       "  </thead>\n",
       "  <tbody>\n",
       "    <tr>\n",
       "      <th>0</th>\n",
       "      <td>Altiplano</td>\n",
       "      <td>2007-02-01</td>\n",
       "      <td>0</td>\n",
       "      <td>0.53</td>\n",
       "    </tr>\n",
       "    <tr>\n",
       "      <th>1</th>\n",
       "      <td>Altiplano</td>\n",
       "      <td>2007-02-01</td>\n",
       "      <td>1</td>\n",
       "      <td>0.34</td>\n",
       "    </tr>\n",
       "    <tr>\n",
       "      <th>2</th>\n",
       "      <td>Altiplano</td>\n",
       "      <td>2007-02-01</td>\n",
       "      <td>2</td>\n",
       "      <td>0.13</td>\n",
       "    </tr>\n",
       "    <tr>\n",
       "      <th>3</th>\n",
       "      <td>Altiplano</td>\n",
       "      <td>2007-02-01</td>\n",
       "      <td>3</td>\n",
       "      <td>0.01</td>\n",
       "    </tr>\n",
       "    <tr>\n",
       "      <th>4</th>\n",
       "      <td>Altiplano</td>\n",
       "      <td>2007-02-01</td>\n",
       "      <td>4</td>\n",
       "      <td>0.0</td>\n",
       "    </tr>\n",
       "    <tr>\n",
       "      <th>...</th>\n",
       "      <td>...</td>\n",
       "      <td>...</td>\n",
       "      <td>...</td>\n",
       "      <td>...</td>\n",
       "    </tr>\n",
       "    <tr>\n",
       "      <th>915</th>\n",
       "      <td>Yungas_Chapare_perc</td>\n",
       "      <td>2022-05-01</td>\n",
       "      <td>0</td>\n",
       "      <td>23.8%</td>\n",
       "    </tr>\n",
       "    <tr>\n",
       "      <th>916</th>\n",
       "      <td>Yungas_Chapare_perc</td>\n",
       "      <td>2022-05-01</td>\n",
       "      <td>1</td>\n",
       "      <td>43.8%</td>\n",
       "    </tr>\n",
       "    <tr>\n",
       "      <th>917</th>\n",
       "      <td>Yungas_Chapare_perc</td>\n",
       "      <td>2022-05-01</td>\n",
       "      <td>2</td>\n",
       "      <td>30.4%</td>\n",
       "    </tr>\n",
       "    <tr>\n",
       "      <th>918</th>\n",
       "      <td>Yungas_Chapare_perc</td>\n",
       "      <td>2022-05-01</td>\n",
       "      <td>3</td>\n",
       "      <td>1.9%</td>\n",
       "    </tr>\n",
       "    <tr>\n",
       "      <th>919</th>\n",
       "      <td>Yungas_Chapare_perc</td>\n",
       "      <td>2022-05-01</td>\n",
       "      <td>4</td>\n",
       "      <td>0.0%</td>\n",
       "    </tr>\n",
       "  </tbody>\n",
       "</table>\n",
       "<p>14720 rows × 4 columns</p>\n",
       "</div>"
      ],
      "text/plain": [
       "                  region       date  nivel porcentaje\n",
       "0              Altiplano 2007-02-01      0       0.53\n",
       "1              Altiplano 2007-02-01      1       0.34\n",
       "2              Altiplano 2007-02-01      2       0.13\n",
       "3              Altiplano 2007-02-01      3       0.01\n",
       "4              Altiplano 2007-02-01      4        0.0\n",
       "..                   ...        ...    ...        ...\n",
       "915  Yungas_Chapare_perc 2022-05-01      0      23.8%\n",
       "916  Yungas_Chapare_perc 2022-05-01      1      43.8%\n",
       "917  Yungas_Chapare_perc 2022-05-01      2      30.4%\n",
       "918  Yungas_Chapare_perc 2022-05-01      3       1.9%\n",
       "919  Yungas_Chapare_perc 2022-05-01      4       0.0%\n",
       "\n",
       "[14720 rows x 4 columns]"
      ]
     },
     "execution_count": 156,
     "metadata": {},
     "output_type": "execute_result"
    }
   ],
   "source": [
    "timeseries"
   ]
  },
  {
   "cell_type": "code",
   "execution_count": 159,
   "id": "cd60372f-418e-4bdc-ac07-c9e77edd7aca",
   "metadata": {
    "execution": {
     "iopub.execute_input": "2022-08-02T02:10:11.928376Z",
     "iopub.status.busy": "2022-08-02T02:10:11.928019Z",
     "iopub.status.idle": "2022-08-02T02:10:12.057664Z",
     "shell.execute_reply": "2022-08-02T02:10:12.056602Z",
     "shell.execute_reply.started": "2022-08-02T02:10:11.928344Z"
    },
    "tags": []
   },
   "outputs": [],
   "source": [
    "timeseries.to_csv('data/timeseries.csv', index=False)"
   ]
  }
 ],
 "metadata": {
  "kernelspec": {
   "display_name": "Python 3 (ipykernel)",
   "language": "python",
   "name": "python3"
  },
  "language_info": {
   "codemirror_mode": {
    "name": "ipython",
    "version": 3
   },
   "file_extension": ".py",
   "mimetype": "text/x-python",
   "name": "python",
   "nbconvert_exporter": "python",
   "pygments_lexer": "ipython3",
   "version": "3.9.13"
  },
  "widgets": {
   "application/vnd.jupyter.widget-state+json": {
    "state": {},
    "version_major": 2,
    "version_minor": 0
   }
  }
 },
 "nbformat": 4,
 "nbformat_minor": 5
}
